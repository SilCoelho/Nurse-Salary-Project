{
  "nbformat": 4,
  "nbformat_minor": 0,
  "metadata": {
    "colab": {
      "provenance": [],
      "authorship_tag": "ABX9TyP4JLUUbU+arN2wAjVUjjwI",
      "include_colab_link": true
    },
    "kernelspec": {
      "name": "python3",
      "display_name": "Python 3"
    },
    "language_info": {
      "name": "python"
    }
  },
  "cells": [
    {
      "cell_type": "markdown",
      "metadata": {
        "id": "view-in-github",
        "colab_type": "text"
      },
      "source": [
        "<a href=\"https://colab.research.google.com/github/SilCoelho/Nurse-Salary-Project/blob/main/Big_Data_Analytics_Projects_Healthcare_Quality_Indicators.ipynb\" target=\"_parent\"><img src=\"https://colab.research.google.com/assets/colab-badge.svg\" alt=\"Open In Colab\"/></a>"
      ]
    },
    {
      "cell_type": "markdown",
      "source": [
        "##**Mental Health**\n",
        "\n",
        "## Suicide Within One Year after Dischage Among Pacients Diagnosed With a Mental Disorder  \n",
        "\n",
        "MSc in Data Analytics SB+"
      ],
      "metadata": {
        "id": "PxUwKt5Jesrv"
      }
    },
    {
      "cell_type": "markdown",
      "source": [
        "#**Scenario: Introduction**\n",
        "\n",
        "Mental health disorders make it a major global public and private health challenge, affecting millions of individuals around the world. Although advances in mental health care have led to improved diagnostic and treatment strategies, the post-discharge period continues to be a critical time in the continuum of care. Patients diagnosed with mental disorders often face complex challenges during their transition from clinical settings to community life, where different factors can influence their well-being.\n",
        "The main challenges, one of the most pressing concerns is the risk of suicide in the first year after discharge. Understanding and trying to prevent this risk is fundamental, as it not only affects the lives of individuals, but also has wider implications for mental health policies and practices. This research strives to delve deeper into the intricate picture of suicide risk in patients with post-discharge mental health disorders, seeking to uncover critical insights that can inform interventions, improve post-discharge care, and ultimately save lives. The visualization result are also available online at https://stats.oecd.org/ There's also a short introduction on why we want to make this site (on the right upper corner). Codes for the system and website can also be accessed at Github:."
      ],
      "metadata": {
        "id": "RCC4tzdrkmEt"
      }
    },
    {
      "cell_type": "markdown",
      "source": [
        "#**1.Module 1. Advanced Data Analytics**"
      ],
      "metadata": {
        "id": "-VVw5iQxnVGX"
      }
    },
    {
      "cell_type": "markdown",
      "source": [
        "#1.1 Planning\n",
        "\n",
        "This project implements the following frameworks in order to have an appropiate planning and execution, delivering meningful and trustworthy insights:\n",
        "\n",
        "\n",
        "*  **Introduction**: Provide an introductory section outlining the background, significance, and objectives of your research. Clearly state the research question and goals.\n",
        "\n",
        "*  **Data collection**: Detail the sources of data, data acquisition methods, and the dataset's composition. Describe how you obtained and prepared the data, including ethical considerations.\n",
        "\n",
        "*    **Data Preparation**: I will describe the steps taken to clean, preprocess, label, and transform the data. Explain any feature selection or extraction processes.\n",
        "\n",
        "*   **Data Exploration**: Present your findings from exploratory data analysis (EDA). Use visualizations and summary statistics to highlight key insights and trends in the dat.\n",
        "\n",
        "*  ** Statistical Analysis**: If applicable, describe any statistical analyses conducted on the data. This may include correlations, hypothesis testing, or descriptive statistics related to mental health indicators and suicide risk.\n",
        "\n",
        "*   **Machine Learning Models**: Explain the development of machine learning models for predicting suicide risk. Include details about model selection, hyperparameter tuning, and model evaluation.\n",
        "\n",
        "*  **Model Results and Interpretation**: I will present the results of your machine learning models, including evaluation metrics and model performance. Interpret the findings, emphasizing which factors are most influential in predicting suicide risk.\n",
        "\n",
        "*   **Ethical Considerations**: Discuss the ethical considerations and precautions taken throughout your research, particularly regarding patient privacy, data handling, and informed consent.\n",
        "\n",
        "*   **Conclusion and Discussion**: In this part, we will discuss the results that we have in the visualization and exploration part. We will conclude how people's emotion change during the time period.\n",
        "\n",
        "*   **Implementation, Limitations and Possible Improvements**: We will introduce how we actually implement this in our cluster, the limitations and possible improvements.\n",
        "\n",
        "*  **Git Versioning**: Will be the  project repository, public access.\n",
        "\n",
        "\n",
        "\n",
        "\n",
        "\n",
        "\n",
        "\n",
        "\n",
        "\n",
        "\n"
      ],
      "metadata": {
        "id": "IY0CGWwVtKFV"
      }
    },
    {
      "cell_type": "markdown",
      "source": [
        "#Stages of the project\n",
        "\n",
        "##This project is divided in two stages, each in one Notebook:\n",
        "\n",
        "##*Notebook 1. Advanced Data Analytics\n",
        "\n",
        "##*Notebook 2. Big Data Storage and Processing"
      ],
      "metadata": {
        "id": "19KW1hPLh_-L"
      }
    },
    {
      "cell_type": "markdown",
      "source": [
        "#1.1.1. Research Questions\n",
        "\n",
        "There are some research questions formulated for this research. In the following sections of this notebook, it will be asessed if it is possible to answer those questions with the dataset, or we need a different approach:\n",
        "\n",
        "These comparisons will be based on data collection from people who committed suicide after being discharged from hospital.\n",
        "\n",
        "1. What are the key factors, including demographic, clinical, and treatment-related variables, that contribute to suicide risk within a year of discharge among patients diagnosed with mental disorders?\n",
        "\n",
        "2. Can machine learning models effectively predict the risk of suicide among patients with specific mental disorders, and if so, which models perform best in this context?\n",
        "\n",
        "3. How do different features or indicators related to mental health, such as depression severity, treatment adherence, or follow-up care, impact the risk of suicide after discharge?\n",
        "\n",
        "4. Are there statistically significant differences in suicide risk between patients with various types of mental disorders, and can these differences be used to inform targeted intervention strategies?\n",
        "\n",
        "5. What ethical considerations should be taken into account when conducting research on suicide risk among vulnerable populations, and how can patient privacy and data security be ensured"
      ],
      "metadata": {
        "id": "eSEsQyNP5KNc"
      }
    },
    {
      "cell_type": "markdown",
      "source": [
        "#Dependencies Installation"
      ],
      "metadata": {
        "id": "m5ydxNbM7DGJ"
      }
    },
    {
      "cell_type": "code",
      "source": [
        "# Import necessary libraries\n",
        "import pandas as pd\n",
        "import numpy as np\n",
        "from sklearn.model_selection import train_test_split\n",
        "from sklearn.preprocessing import StandardScaler\n",
        "from sklearn.metrics import accuracy_score, classification_report, confusion_matrix\n",
        "from sklearn.model_selection import GridSearchCV\n",
        "from sklearn.ensemble import RandomForestClassifier"
      ],
      "metadata": {
        "id": "MW_au0BT7HDc"
      },
      "execution_count": 1,
      "outputs": []
    },
    {
      "cell_type": "code",
      "source": [
        "from google.colab import drive\n",
        "drive.mount ('/content/drive')"
      ],
      "metadata": {
        "colab": {
          "base_uri": "https://localhost:8080/",
          "height": 338
        },
        "id": "g9GQrAjN9EUL",
        "outputId": "bf83ac92-6a5c-4b3f-e59f-bcffe3d7b073"
      },
      "execution_count": 4,
      "outputs": [
        {
          "output_type": "error",
          "ename": "MessageError",
          "evalue": "ignored",
          "traceback": [
            "\u001b[0;31m---------------------------------------------------------------------------\u001b[0m",
            "\u001b[0;31mMessageError\u001b[0m                              Traceback (most recent call last)",
            "\u001b[0;32m<ipython-input-4-47ccba274b6a>\u001b[0m in \u001b[0;36m<cell line: 2>\u001b[0;34m()\u001b[0m\n\u001b[1;32m      1\u001b[0m \u001b[0;32mfrom\u001b[0m \u001b[0mgoogle\u001b[0m\u001b[0;34m.\u001b[0m\u001b[0mcolab\u001b[0m \u001b[0;32mimport\u001b[0m \u001b[0mdrive\u001b[0m\u001b[0;34m\u001b[0m\u001b[0;34m\u001b[0m\u001b[0m\n\u001b[0;32m----> 2\u001b[0;31m \u001b[0mdrive\u001b[0m\u001b[0;34m.\u001b[0m\u001b[0mmount\u001b[0m \u001b[0;34m(\u001b[0m\u001b[0;34m'/content/drive'\u001b[0m\u001b[0;34m)\u001b[0m\u001b[0;34m\u001b[0m\u001b[0;34m\u001b[0m\u001b[0m\n\u001b[0m",
            "\u001b[0;32m/usr/local/lib/python3.10/dist-packages/google/colab/drive.py\u001b[0m in \u001b[0;36mmount\u001b[0;34m(mountpoint, force_remount, timeout_ms, readonly)\u001b[0m\n\u001b[1;32m    101\u001b[0m \u001b[0;32mdef\u001b[0m \u001b[0mmount\u001b[0m\u001b[0;34m(\u001b[0m\u001b[0mmountpoint\u001b[0m\u001b[0;34m,\u001b[0m \u001b[0mforce_remount\u001b[0m\u001b[0;34m=\u001b[0m\u001b[0;32mFalse\u001b[0m\u001b[0;34m,\u001b[0m \u001b[0mtimeout_ms\u001b[0m\u001b[0;34m=\u001b[0m\u001b[0;36m120000\u001b[0m\u001b[0;34m,\u001b[0m \u001b[0mreadonly\u001b[0m\u001b[0;34m=\u001b[0m\u001b[0;32mFalse\u001b[0m\u001b[0;34m)\u001b[0m\u001b[0;34m:\u001b[0m\u001b[0;34m\u001b[0m\u001b[0;34m\u001b[0m\u001b[0m\n\u001b[1;32m    102\u001b[0m   \u001b[0;34m\"\"\"Mount your Google Drive at the specified mountpoint path.\"\"\"\u001b[0m\u001b[0;34m\u001b[0m\u001b[0;34m\u001b[0m\u001b[0m\n\u001b[0;32m--> 103\u001b[0;31m   return _mount(\n\u001b[0m\u001b[1;32m    104\u001b[0m       \u001b[0mmountpoint\u001b[0m\u001b[0;34m,\u001b[0m\u001b[0;34m\u001b[0m\u001b[0;34m\u001b[0m\u001b[0m\n\u001b[1;32m    105\u001b[0m       \u001b[0mforce_remount\u001b[0m\u001b[0;34m=\u001b[0m\u001b[0mforce_remount\u001b[0m\u001b[0;34m,\u001b[0m\u001b[0;34m\u001b[0m\u001b[0;34m\u001b[0m\u001b[0m\n",
            "\u001b[0;32m/usr/local/lib/python3.10/dist-packages/google/colab/drive.py\u001b[0m in \u001b[0;36m_mount\u001b[0;34m(mountpoint, force_remount, timeout_ms, ephemeral, readonly)\u001b[0m\n\u001b[1;32m    130\u001b[0m   )\n\u001b[1;32m    131\u001b[0m   \u001b[0;32mif\u001b[0m \u001b[0mephemeral\u001b[0m\u001b[0;34m:\u001b[0m\u001b[0;34m\u001b[0m\u001b[0;34m\u001b[0m\u001b[0m\n\u001b[0;32m--> 132\u001b[0;31m     _message.blocking_request(\n\u001b[0m\u001b[1;32m    133\u001b[0m         \u001b[0;34m'request_auth'\u001b[0m\u001b[0;34m,\u001b[0m \u001b[0mrequest\u001b[0m\u001b[0;34m=\u001b[0m\u001b[0;34m{\u001b[0m\u001b[0;34m'authType'\u001b[0m\u001b[0;34m:\u001b[0m \u001b[0;34m'dfs_ephemeral'\u001b[0m\u001b[0;34m}\u001b[0m\u001b[0;34m,\u001b[0m \u001b[0mtimeout_sec\u001b[0m\u001b[0;34m=\u001b[0m\u001b[0;32mNone\u001b[0m\u001b[0;34m\u001b[0m\u001b[0;34m\u001b[0m\u001b[0m\n\u001b[1;32m    134\u001b[0m     )\n",
            "\u001b[0;32m/usr/local/lib/python3.10/dist-packages/google/colab/_message.py\u001b[0m in \u001b[0;36mblocking_request\u001b[0;34m(request_type, request, timeout_sec, parent)\u001b[0m\n\u001b[1;32m    174\u001b[0m       \u001b[0mrequest_type\u001b[0m\u001b[0;34m,\u001b[0m \u001b[0mrequest\u001b[0m\u001b[0;34m,\u001b[0m \u001b[0mparent\u001b[0m\u001b[0;34m=\u001b[0m\u001b[0mparent\u001b[0m\u001b[0;34m,\u001b[0m \u001b[0mexpect_reply\u001b[0m\u001b[0;34m=\u001b[0m\u001b[0;32mTrue\u001b[0m\u001b[0;34m\u001b[0m\u001b[0;34m\u001b[0m\u001b[0m\n\u001b[1;32m    175\u001b[0m   )\n\u001b[0;32m--> 176\u001b[0;31m   \u001b[0;32mreturn\u001b[0m \u001b[0mread_reply_from_input\u001b[0m\u001b[0;34m(\u001b[0m\u001b[0mrequest_id\u001b[0m\u001b[0;34m,\u001b[0m \u001b[0mtimeout_sec\u001b[0m\u001b[0;34m)\u001b[0m\u001b[0;34m\u001b[0m\u001b[0;34m\u001b[0m\u001b[0m\n\u001b[0m",
            "\u001b[0;32m/usr/local/lib/python3.10/dist-packages/google/colab/_message.py\u001b[0m in \u001b[0;36mread_reply_from_input\u001b[0;34m(message_id, timeout_sec)\u001b[0m\n\u001b[1;32m    101\u001b[0m     ):\n\u001b[1;32m    102\u001b[0m       \u001b[0;32mif\u001b[0m \u001b[0;34m'error'\u001b[0m \u001b[0;32min\u001b[0m \u001b[0mreply\u001b[0m\u001b[0;34m:\u001b[0m\u001b[0;34m\u001b[0m\u001b[0;34m\u001b[0m\u001b[0m\n\u001b[0;32m--> 103\u001b[0;31m         \u001b[0;32mraise\u001b[0m \u001b[0mMessageError\u001b[0m\u001b[0;34m(\u001b[0m\u001b[0mreply\u001b[0m\u001b[0;34m[\u001b[0m\u001b[0;34m'error'\u001b[0m\u001b[0;34m]\u001b[0m\u001b[0;34m)\u001b[0m\u001b[0;34m\u001b[0m\u001b[0;34m\u001b[0m\u001b[0m\n\u001b[0m\u001b[1;32m    104\u001b[0m       \u001b[0;32mreturn\u001b[0m \u001b[0mreply\u001b[0m\u001b[0;34m.\u001b[0m\u001b[0mget\u001b[0m\u001b[0;34m(\u001b[0m\u001b[0;34m'data'\u001b[0m\u001b[0;34m,\u001b[0m \u001b[0;32mNone\u001b[0m\u001b[0;34m)\u001b[0m\u001b[0;34m\u001b[0m\u001b[0;34m\u001b[0m\u001b[0m\n\u001b[1;32m    105\u001b[0m \u001b[0;34m\u001b[0m\u001b[0m\n",
            "\u001b[0;31mMessageError\u001b[0m: Error: credential propagation was unsuccessful"
          ]
        }
      ]
    },
    {
      "cell_type": "code",
      "source": [
        "\n",
        "# Load your preprocessed dataset (replace 'your_data.csv' with your data file)\n",
        "data = pd.read_csv('/content/HEALTH_HCQI_08092023222307540.csv')"
      ],
      "metadata": {
        "id": "r4NnqWE48GR5"
      },
      "execution_count": 2,
      "outputs": []
    }
  ]
}